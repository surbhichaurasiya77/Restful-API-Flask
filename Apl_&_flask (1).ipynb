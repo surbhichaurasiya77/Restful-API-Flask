{
  "cells": [
    {
      "cell_type": "markdown",
      "metadata": {
        "id": "3TTuGvWziC2-"
      },
      "source": [
        "# Restful API & Flask"
      ]
    },
    {
      "cell_type": "markdown",
      "metadata": {
        "id": "Lf33n1Ozhb4p"
      },
      "source": [
        "1. What is a RESTful API?\n",
        "- A RESTful API is a type of application programming interface (API) that follows the REST (Representational State Transfer) architectural style, which means it uses HTTP requests to access and manipulate data. RESTful APIs are designed to be simple, scalable, and efficient, making them popular for web services and mobile app development.\n",
        "\n",
        "2.  Explain the concept of API specification.\n",
        "- An API specification details the functional and expected behavior of an API, as well as the fundamental design philosophy and supported data types. It contains both documentation and API definitions to create a contract that people and software can read.\n",
        "\n",
        "3. What is Flask, and why is it popular for building APIs?\n",
        "- Flask is a lightweight and flexible micro-framework for building web applications and APIs in Python. It's known for its simplicity and ease of use, making it a popular choice for creating RESTful APIs and microservices.\n",
        "\n",
        "      Why Flask is popular for building APIs:\n",
        "\n",
        "   * Lightweight and Minimalistic:-Flask is designed to be minimal, providing only the necessary components for web development without unnecessary overhead.\n",
        "\n",
        "   * Flexibility:-It offers a high degree of control and flexibility to developers, allowing them to customize the application structure and add features as needed.\n",
        "\n",
        "   * RESTful API Design:-Flask is well-suited for creating RESTful APIs, which are a standard way to access web services.\n",
        "\n",
        "   * Easy to Learn and Use:-Flask's simplicity makes it easier for developers to learn and use, particularly for those new to web development.\n",
        "\n",
        "   * Large Community and Support:-Flask has a large and active community, providing ample resources, tutorials, and support for developers.\n",
        "\n",
        "   * Scalability:-Flask can be scaled to handle complex projects and large volumes of data.\n",
        "\n",
        "   * Extensibility:-Flask can be extended with various extensions for different functionalities, such as database integration and authentication.\n",
        "\n",
        "   * Pythonic:-Flask is written in Python, a versatile and widely used language with a vast ecosystem of libraries and tools.\n",
        "\n",
        "4. What is routing in Flask?\n",
        "- In Flask, routing is the mechanism that maps specific URLs to Python functions. It is a fundamental aspect of web application development, as it determines how the application responds to client requests.\n",
        "\n",
        "5. How do you create a simple Flask application?\n"
      ]
    },
    {
      "cell_type": "code",
      "execution_count": null,
      "metadata": {
        "colab": {
          "base_uri": "https://localhost:8080/"
        },
        "id": "NdDjz4qJn0Ku",
        "outputId": "42040f89-9733-42ab-de6c-f8f807304e8f"
      },
      "outputs": [
        {
          "name": "stdout",
          "output_type": "stream",
          "text": [
            "Requirement already satisfied: Flask in /usr/local/lib/python3.11/dist-packages (3.1.1)\n",
            "Requirement already satisfied: blinker>=1.9.0 in /usr/local/lib/python3.11/dist-packages (from Flask) (1.9.0)\n",
            "Requirement already satisfied: click>=8.1.3 in /usr/local/lib/python3.11/dist-packages (from Flask) (8.2.1)\n",
            "Requirement already satisfied: itsdangerous>=2.2.0 in /usr/local/lib/python3.11/dist-packages (from Flask) (2.2.0)\n",
            "Requirement already satisfied: jinja2>=3.1.2 in /usr/local/lib/python3.11/dist-packages (from Flask) (3.1.6)\n",
            "Requirement already satisfied: markupsafe>=2.1.1 in /usr/local/lib/python3.11/dist-packages (from Flask) (3.0.2)\n",
            "Requirement already satisfied: werkzeug>=3.1.0 in /usr/local/lib/python3.11/dist-packages (from Flask) (3.1.3)\n"
          ]
        }
      ],
      "source": [
        "  pip install Flask"
      ]
    },
    {
      "cell_type": "code",
      "execution_count": null,
      "metadata": {
        "colab": {
          "background_save": true,
          "base_uri": "https://localhost:8080/"
        },
        "id": "vaGCyqhYoSrY",
        "outputId": "2de17748-e800-49d2-e9ff-829c3c868e39"
      },
      "outputs": [
        {
          "name": "stdout",
          "output_type": "stream",
          "text": [
            " * Serving Flask app '__main__'\n",
            " * Debug mode: on\n"
          ]
        },
        {
          "name": "stderr",
          "output_type": "stream",
          "text": [
            "INFO:werkzeug:\u001b[31m\u001b[1mWARNING: This is a development server. Do not use it in a production deployment. Use a production WSGI server instead.\u001b[0m\n",
            " * Running on http://127.0.0.1:5000\n",
            "INFO:werkzeug:\u001b[33mPress CTRL+C to quit\u001b[0m\n",
            "INFO:werkzeug: * Restarting with stat\n"
          ]
        }
      ],
      "source": [
        "from flask import Flask\n",
        "\n",
        "app = Flask(__name__)\n",
        "\n",
        "@app.route('/')\n",
        "def hello():\n",
        "    return 'Hello, World!'\n",
        "\n",
        "if __name__ == '__main__':\n",
        "    app.run(debug=True)"
      ]
    },
    {
      "cell_type": "markdown",
      "metadata": {
        "id": "vTKmnbhjmBIx"
      },
      "source": [
        "6. What are HTTP methods used in RESTful APIs?\n",
        "- In RESTful APIs, HTTP methods are used to define the type of operation being performed on a resource. The most common methods are GET, POST, PUT, PATCH, and DELETE, which correspond to the CRUD operations of read, create, update, and delete, respectively. While these are the most frequently used, other methods like OPTIONS, HEAD, and TRACE exist as well.\n",
        "\n",
        "7. What is the purpose of the @app.route() decorator in Flask?\n",
        "- The @app.route() decorator in Flask serves as a crucial mechanism for mapping specific URLs to Python functions. It essentially establishes routes within your web application, dictating which function should be executed when a particular URL is accessed\n",
        "\n",
        "8. What is the difference between GET and POST HTTP methods?\n",
        "- The main difference between GET and POST methods in HTTP lies in how data is transmitted and used. GET retrieves data from a server, typically by including it in the URL, while POST sends data to a server, often for creating or updating resources, with data being sent in the request body.\n",
        "\n",
        " GET:\n",
        "\n",
        "  * Purpose: Retrieves data from the server.\n",
        "\n",
        "  * Data Transmission: Data is included in the URL as part of a query string.\n",
        "\n",
        "  * Side Effects: GET requests should not have side effects on the server (i.e., they should not modify data).\n",
        "\n",
        "  * Caching: GET requests are often cacheable.\n",
        "\n",
        "  * Security: Less secure because data is visible in the URL.\n",
        "\n",
        "  * Data Size: Limited by URL length constraints.\n",
        "\n",
        " POST:\n",
        "\n",
        "  * Purpose: Sends data to the server, often for creating or updating resources.\n",
        "\n",
        "  * Data Transmission: Data is sent in the request body.\n",
        "\n",
        "  * Side Effects: Can result in changes on the server (e.g., creating or updating a resource).\n",
        "\n",
        " * Caching: Generally not cacheable.\n",
        "\n",
        " * Security: More secure as data is not exposed in the URL.\n",
        "\n",
        " * Data Size: No limitations on data size.\n",
        "\n",
        "9. How do you handle errors in Flask APIs?\n",
        "- Error handling in Flask APIs is crucial for providing informative responses to clients when something goes wrong. Here's a breakdown of how it's typically done:\n",
        "  *  Built-in HTTP Exceptions: Flask uses Werkzeug's HTTP exceptions, which map to standard HTTP status codes. You can raise these exceptions directly to return appropriate error responses. Common examples include: abort(400): Bad Request, abort(401): Unauthorized, abort(404): Not Found, and abort(500): Internal Server Error.\n",
        "\n",
        "  *  Custom Error Handlers: You can define custom functions to handle specific exception types using the @app.errorhandler decorator. This allows you to format error responses consistently, such as returning JSON instead of HTML.\n",
        "\n",
        "10. How do you connect Flask to a SQL database?\n",
        "- To connect to a SQL Server database, you'll typically use SQL Server Management Studio (SSMS), a tool that allows you to connect, query, and manage SQL Server databases. You'll need to specify the server name (or IP address), authentication method (Windows or SQL Server Authentication), and optionally, the database name.\n",
        "\n",
        "11. What is the role of Flask-SQLAlchemy?\n",
        "- Flask SQLAlchemy enables developers to perform tasks like defining models, creating queries, and easily managing database migrations and supports multiple database management systems such as SQLite, MySQL, and PostgreSQL.\n",
        "\n",
        "12. What are Flask blueprints, and how are they useful?\n",
        "- Each Flask Blueprint is an object that works very similarly to a Flask application. They both can have resources, such as static files, templates, and views that are associated with routes. However, a Flask Blueprint is not actually an application. It needs to be registered in an application before you can run it.\n",
        "\n",
        "13. What is the purpose of Flask's request object?\n",
        "- The Flask request object is a crucial part of the framework, acting as a central hub for all incoming data from a client's web browser. It encapsulates the details of an HTTP request, making it accessible within Flask's view functions.\n",
        "\n",
        "  * purpose of Flask's request object\n",
        "\n",
        "    Accessing Incoming Data:\n",
        "\n",
        "  * including:-Form Data: Data submitted through HTML forms, accessible via request.form.\n",
        "\n",
        "  * Query Parameters: Data appended to the URL, accessible through request.args.\n",
        "\n",
        "  * JSON Data: Data sent in JSON format, accessible via request.get_json().\n",
        "\n",
        "  * Uploaded Files: Files sent through forms, accessible via request.files.\n",
        "\n",
        "  * Cookies: Cookies sent by the client, accessible via request.cookies.\n",
        "\n",
        "  * Headers: HTTP headers sent with the request, accessible via request.headers.\n",
        "\n",
        "  * Request Method: The HTTP method used (e.g., GET, POST), accessible via request.method.\n",
        "\n",
        "  * URL: The requested URL, accessible through request.url.\n",
        "\n",
        "  * IP Address: The client's IP address can be accessed through request.remote_addr.\n",
        "\n",
        "14. How do you create a RESTful API endpoint using Flask?\n",
        "- how to create a RESTful API endpoint using Flask:"
      ]
    },
    {
      "cell_type": "code",
      "execution_count": null,
      "metadata": {
        "id": "TnXmJIeioRGd"
      },
      "outputs": [],
      "source": [
        "# Install Flask and Flask-RESTful\n",
        "pip install Flask\n",
        "pip install flask-restful"
      ]
    },
    {
      "cell_type": "code",
      "execution_count": null,
      "metadata": {
        "id": "-Lj6klVulzcq"
      },
      "outputs": [],
      "source": [
        "# Import necessary modules\n",
        "from flask import Flask, request\n",
        "from flask_restful import Resource, Api, reqparse"
      ]
    },
    {
      "cell_type": "code",
      "execution_count": null,
      "metadata": {
        "id": "JOaUwq6-z9Db"
      },
      "outputs": [],
      "source": [
        "# Initialize Flask and Flask-RESTful API\n",
        "app = Flask(__name__)\n",
        "api = Api(app)"
      ]
    },
    {
      "cell_type": "code",
      "execution_count": null,
      "metadata": {
        "id": "M9Bdpv8sz9GV"
      },
      "outputs": [],
      "source": [
        "# Create a Resource Class\n",
        "class MyResource(Resource):\n",
        "    def get(self):\n",
        "        # Handle GET request\n",
        "        return {'message': 'This is a GET request'}\n",
        "\n",
        "    def post(self):\n",
        "        # Handle POST request\n",
        "        parser = reqparse.RequestParser()\n",
        "        parser.add_argument('data', required=True, help=\"Data is required\")\n",
        "        args = parser.parse_args()\n",
        "        return {'message': 'This is a POST request', 'received': args['data']}, 201\n",
        "\n",
        "    def put(self):\n",
        "        # Handle PUT request\n",
        "        return {'message': 'This is a PUT request'}\n",
        "\n",
        "    def delete(self):\n",
        "        # Handle DELETE request\n",
        "        return {'message': 'This is a DELETE request'}"
      ]
    },
    {
      "cell_type": "markdown",
      "metadata": {
        "id": "o9-hmdrC0tIg"
      },
      "source": [
        "15. What is the purpose of Flask's jsonify() function?\n",
        "- The jsonify() function is useful in Flask apps because it automatically sets the correct response headers and content type for JSON responses, and allows you to easily return JSON-formatted data from your route handlers. This makes it easier and more convenient to create APIs that return JSON data.\n",
        "\n",
        "16. Explain Flask’s url_for() function.\n",
        "-The url_for() function in Flask is used to generate URLs dynamically based on the name of a view function and its associated parameters. It is a crucial tool for avoiding hardcoding URLs in your application, making it more flexible and maintainable.\n",
        "\n",
        "17. How does Flask handle static files (CSS, JavaScript, etc.)?\n",
        "- Flask handles static files such as CSS, JavaScript, and images by serving them from a designated directory, typically named \"static,\" located in the same directory as your main application file.\n",
        "\n",
        "18. What is an API specification, and how does it help in building a Flask API?\n",
        "-  What Is an API Specification\n",
        "\n",
        "    An API specification serves as a contract between the API provider and consumers. It defines:\n",
        "\n",
        "\n",
        "   * Endpoints: Available routes and their HTTP methods (e.g., GET /users, POST /login).\n",
        "\n",
        "   * Parameters: Required or optional inputs, including query parameters, path variables, and request bodies.\n",
        "\n",
        "   * Responses: Expected status codes and response formats.\n",
        "\n",
        "   * Authentication: Methods like API keys, OAuth tokens, etc.\n",
        "\n",
        "   * Data Models: Schemas for request and response payloads.\n",
        "\n",
        "    Common specification formats include:\n",
        "\n",
        "   * OpenAPI (formerly Swagger): Widely adopted for RESTful APIs.\n",
        "\n",
        "   * RAML: YAML-based, focusing on modularity and reusability.\n",
        "\n",
        "   * API Blueprint: Markdown-based, emphasizing readability.\n",
        "\n",
        "19. What are HTTP status codes, and why are they important in a Flask API?\n",
        "- HTTP status codes are standardized three-digit numbers that a server returns in response to a client's request. They indicate whether a specific HTTP request has been successfully completed and help clients understand the outcome of their requests.\n",
        "\n",
        "- In a Flask API, certain elements are crucial for defining how the application functions and interacts with users. These include routes, view functions, request handling, and response handling, which are essential for building the application's endpoints and processing data.\n",
        "\n",
        "20.  How do you handle POST requests in Flask?\n",
        "- the method in the route decorator:\n",
        "\n",
        "When defining a route, you need to specify that it accepts POST requests using the methods argument in the @app.route() decorator.\n",
        "\n"
      ]
    },
    {
      "cell_type": "code",
      "execution_count": null,
      "metadata": {
        "id": "A3d_MjjU5jWn"
      },
      "outputs": [],
      "source": [
        "   from flask import Flask, request\n",
        "\n",
        "     app = Flask(__name__)\n",
        "\n",
        "     @app.route('/submit', methods=['POST'])\n",
        "     def handle_post():\n",
        "         # ... your code to process the POST request ...\n",
        "         return \"POST request received\"\n",
        "\n",
        "     if __name__ == '__main__':\n",
        "         app.run(debug=True)"
      ]
    },
    {
      "cell_type": "markdown",
      "metadata": {
        "id": "0DTJ7QUn5lzM"
      },
      "source": [
        "21. How would you secure a Flask API?\n",
        "- To protect your APIs built with Flask, it is essential to address several key security aspects: Use HTTPS: Employing HTTPS encrypts data in transit, preventing unauthorized access and mitigating the risk of man-in-the-middle attacks.\n",
        "\n",
        "22. What is the significance of the Flask-RESTful extension?\n",
        "- The Flask RESTful extension significantly simplifies the development of RESTful APIs within Flask applications. It provides a structured way to define resources, manage HTTP methods, and handle data serialization/deserialization, leading to cleaner, more maintainable code. By leveraging the Resource class, it enables developers to define HTTP methods as class methods, making it easier to organize and manage API endpoints.\n",
        "\n",
        "23. What is the role of Flask's session object?\n",
        "- In Flask, the session object allows developers to store and retrieve user-specific data across multiple HTTP requests. It's a mechanism to maintain state between requests, enabling features like login persistence and personalized experiences. Think of it as a way to \"remember\" information about a user as they navigate your web application."
      ]
    },
    {
      "cell_type": "markdown",
      "metadata": {
        "id": "Y_2yyPXw6ULJ"
      },
      "source": [
        "# Practical"
      ]
    },
    {
      "cell_type": "markdown",
      "source": [
        "1. How do you create a basic Flask application?"
      ],
      "metadata": {
        "id": "BSTX4sF438sI"
      }
    },
    {
      "cell_type": "code",
      "source": [
        "pip install flask"
      ],
      "metadata": {
        "colab": {
          "base_uri": "https://localhost:8080/"
        },
        "id": "6e6whueo5xwx",
        "outputId": "f3b69b0d-cf04-49ae-bc2e-3291599dbab2"
      },
      "execution_count": 2,
      "outputs": [
        {
          "output_type": "stream",
          "name": "stdout",
          "text": [
            "Requirement already satisfied: flask in /usr/local/lib/python3.11/dist-packages (3.1.1)\n",
            "Requirement already satisfied: blinker>=1.9.0 in /usr/local/lib/python3.11/dist-packages (from flask) (1.9.0)\n",
            "Requirement already satisfied: click>=8.1.3 in /usr/local/lib/python3.11/dist-packages (from flask) (8.2.1)\n",
            "Requirement already satisfied: itsdangerous>=2.2.0 in /usr/local/lib/python3.11/dist-packages (from flask) (2.2.0)\n",
            "Requirement already satisfied: jinja2>=3.1.2 in /usr/local/lib/python3.11/dist-packages (from flask) (3.1.6)\n",
            "Requirement already satisfied: markupsafe>=2.1.1 in /usr/local/lib/python3.11/dist-packages (from flask) (3.0.2)\n",
            "Requirement already satisfied: werkzeug>=3.1.0 in /usr/local/lib/python3.11/dist-packages (from flask) (3.1.3)\n"
          ]
        }
      ]
    },
    {
      "cell_type": "code",
      "execution_count": 1,
      "metadata": {
        "id": "vFJEhqIdz9Jq",
        "colab": {
          "base_uri": "https://localhost:8080/"
        },
        "outputId": "a9df89a8-f56a-4f87-8b93-f5902be1bab3"
      },
      "outputs": [
        {
          "output_type": "stream",
          "name": "stdout",
          "text": [
            " * Serving Flask app '__main__'\n",
            " * Debug mode: on\n"
          ]
        },
        {
          "output_type": "stream",
          "name": "stderr",
          "text": [
            "INFO:werkzeug:\u001b[31m\u001b[1mWARNING: This is a development server. Do not use it in a production deployment. Use a production WSGI server instead.\u001b[0m\n",
            " * Running on http://127.0.0.1:5000\n",
            "INFO:werkzeug:\u001b[33mPress CTRL+C to quit\u001b[0m\n",
            "INFO:werkzeug: * Restarting with stat\n"
          ]
        }
      ],
      "source": [
        "from flask import Flask\n",
        "\n",
        "app = Flask(__name__)\n",
        "\n",
        "@app.route(\"/\")\n",
        "def hello():\n",
        "    return \"Hello, World!\"\n",
        "\n",
        "if __name__ == \"__main__\":\n",
        "    app.run(debug=True)\n"
      ]
    },
    {
      "cell_type": "markdown",
      "source": [
        "2. How do you serve static files like images or CSS in Flask?"
      ],
      "metadata": {
        "id": "GxV7FvhV6PNA"
      }
    },
    {
      "cell_type": "code",
      "source": [
        "<!DOCTYPE html>\n",
        "<html lang=\"en\">\n",
        "<head>\n",
        "    <meta charset=\"UTF-8\">\n",
        "    <title>My Flask App</title>\n",
        "    <link rel=\"stylesheet\" href=\"{{ url_for('static', filename='C:\\Users\\HP\\Desktop\\.vscode') }}\">\n",
        "</head>\n",
        "<body>\n",
        "    <h1>Welcome to My Flask App</h1>\n",
        "    <img src=\"{{ url_for('static', filename='C:\\Users\\HP\\Pictures') }}\" alt=\"JPG File (.jpg)\">\n",
        "\n",
        "</body>\n",
        "</html>"
      ],
      "metadata": {
        "colab": {
          "base_uri": "https://localhost:8080/",
          "height": 106
        },
        "id": "TgHdKoWq7kwL",
        "outputId": "50bd62e7-c280-418c-99dc-4bf6e4a549d1"
      },
      "execution_count": 6,
      "outputs": [
        {
          "output_type": "error",
          "ename": "SyntaxError",
          "evalue": "invalid syntax (<ipython-input-6-c5864d91f1aa>, line 1)",
          "traceback": [
            "\u001b[0;36m  File \u001b[0;32m\"<ipython-input-6-c5864d91f1aa>\"\u001b[0;36m, line \u001b[0;32m1\u001b[0m\n\u001b[0;31m    <!DOCTYPE html>\u001b[0m\n\u001b[0m    ^\u001b[0m\n\u001b[0;31mSyntaxError\u001b[0m\u001b[0;31m:\u001b[0m invalid syntax\n"
          ]
        }
      ]
    },
    {
      "cell_type": "markdown",
      "source": [
        "3. How do you define different routes with different HTTP methods in Flask?"
      ],
      "metadata": {
        "id": "SzmAbqId7kT3"
      }
    },
    {
      "cell_type": "code",
      "source": [
        "from flask import Flask, request\n",
        "\n",
        "app = Flask(__name__)\n",
        "\n",
        "@app.route('/submit', methods=['GET', 'POST'])\n",
        "def submit():\n",
        "    if request.method == 'POST':\n",
        "        return 'Form submitted!'\n",
        "    return 'Submit form'"
      ],
      "metadata": {
        "id": "443UGkccEfuM"
      },
      "execution_count": 3,
      "outputs": []
    },
    {
      "cell_type": "markdown",
      "source": [
        "4. How do you render HTML templates in Flask?"
      ],
      "metadata": {
        "id": "YFmvNpQYFuxp"
      }
    },
    {
      "cell_type": "code",
      "source": [
        "<!DOCTYPE html>\n",
        "<html lang=\"en\">\n",
        "<head>\n",
        "    <meta charset=\"UTF-8\">\n",
        "    <title>My Flask App</title>\n",
        "</head>\n",
        "<body>\n",
        "    <h1>Hello, World</h1>\n",
        "</body>\n",
        "</html>"
      ],
      "metadata": {
        "colab": {
          "base_uri": "https://localhost:8080/",
          "height": 106
        },
        "id": "PZZN7jE1EpKK",
        "outputId": "249112eb-1db5-419a-b606-15a5fee26188"
      },
      "execution_count": 7,
      "outputs": [
        {
          "output_type": "error",
          "ename": "SyntaxError",
          "evalue": "invalid syntax (<ipython-input-7-1de37372c48d>, line 1)",
          "traceback": [
            "\u001b[0;36m  File \u001b[0;32m\"<ipython-input-7-1de37372c48d>\"\u001b[0;36m, line \u001b[0;32m1\u001b[0m\n\u001b[0;31m    <!DOCTYPE html>\u001b[0m\n\u001b[0m    ^\u001b[0m\n\u001b[0;31mSyntaxError\u001b[0m\u001b[0;31m:\u001b[0m invalid syntax\n"
          ]
        }
      ]
    },
    {
      "cell_type": "markdown",
      "source": [
        "5. How can you generate URLs for routes in Flask using url_for?"
      ],
      "metadata": {
        "id": "jmxbvOZoDpqG"
      }
    },
    {
      "cell_type": "code",
      "source": [
        "#url_for()\n",
        "from flask import Flask, url_for\n",
        "\n",
        "app = Flask(__name__)\n",
        "\n",
        "@app.route('/')\n",
        "def home():\n",
        "    return 'Home Page'\n",
        "\n",
        "@app.route('/user/<username>')\n",
        "def profile(username):\n",
        "    return f\"Profile page of {surbhi}\"\n",
        "\n",
        "with app.test_request_context():\n",
        "    print(url_for('home'))  # Outputs: '/'\n",
        "    print(url_for('profile', username='surbhi'))"
      ],
      "metadata": {
        "colab": {
          "base_uri": "https://localhost:8080/"
        },
        "id": "pqOPLUl6HBeg",
        "outputId": "d19aaf04-4fb5-4676-b4ee-3e5a63af9bf8"
      },
      "execution_count": 4,
      "outputs": [
        {
          "output_type": "stream",
          "name": "stdout",
          "text": [
            "/\n",
            "/user/surbhi\n"
          ]
        }
      ]
    },
    {
      "cell_type": "code",
      "source": [
        "#URLs\n",
        "@app.route('/post/<int:post_id>')\n",
        "def show_post(post_id):\n",
        "    return f\"Post {post_id}\"\n",
        "\n",
        "with app.test_request_context():\n",
        "    print(url_for('show_post', post_id=123))"
      ],
      "metadata": {
        "colab": {
          "base_uri": "https://localhost:8080/"
        },
        "id": "cuCoezm_HRzR",
        "outputId": "99c35b70-927c-46fb-a738-c1be1655a1fb"
      },
      "execution_count": 5,
      "outputs": [
        {
          "output_type": "stream",
          "name": "stdout",
          "text": [
            "/post/123\n"
          ]
        }
      ]
    },
    {
      "cell_type": "markdown",
      "source": [
        "6. How do you handle forms in Flask?"
      ],
      "metadata": {
        "id": "I2_5V0-zHqr9"
      }
    },
    {
      "cell_type": "code",
      "source": [
        "from flask import Flask, request, render_template_string\n",
        "\n",
        "app = Flask(__name__)\n",
        "\n",
        "@app.route('/form', methods=['GET', 'POST'])\n",
        "def form():\n",
        "    if request.method == 'POST':\n",
        "        language = request.form.get('language')\n",
        "        framework = request.form.get('framework')\n",
        "        return f'<h1>Language: {language}</h1><h1>Framework: {framework}</h1>'\n",
        "\n",
        "    return \"\"\"\n",
        "        <form method=\"POST\">\n",
        "            <label>Language: <input type=\"text\" name=\"language\"></label><br>\n",
        "            <label>Framework: <input type=\"text\" name=\"framework\"></label><br>\n",
        "            <input type=\"submit\" value=\"Submit\">\n",
        "        </form>\n",
        "    \"\"\"\n"
      ],
      "metadata": {
        "id": "P_mGy1vqI01n"
      },
      "execution_count": 8,
      "outputs": []
    },
    {
      "cell_type": "code",
      "source": [
        "@app.route('/search', methods=['GET'])\n",
        "def search():\n",
        "    query = request.args.get('q')\n",
        "    return f\"Search query: {query}\""
      ],
      "metadata": {
        "id": "K35Ks16EMyiz"
      },
      "execution_count": 9,
      "outputs": []
    },
    {
      "cell_type": "markdown",
      "source": [
        "7. How can you validate form data in Flask?"
      ],
      "metadata": {
        "id": "EMUll-zbI1RO"
      }
    },
    {
      "cell_type": "code",
      "source": [
        "from flask import Flask, request, render_template_string\n",
        "\n",
        "app = Flask(__name__)\n",
        "\n",
        "@app.route('/submit', methods=['GET', 'POST'])\n",
        "def submit():\n",
        "    error = None\n",
        "    if request.method == 'POST':\n",
        "        username = request.form.get('surbhi')\n",
        "        if not username:\n",
        "            error = 'Username is required.'\n",
        "        elif len(username) < 3:\n",
        "            error = 'Username must be at least 3 characters long.'\n",
        "        else:\n",
        "            return f'Welcome, {'surbhi'}!'\n",
        "    return render_template_string('''\n",
        "        <form method=\"post\">\n",
        "            <input name=\"username\" placeholder=\"Username\">\n",
        "            <input type=\"submit\">\n",
        "            {% if error %}\n",
        "                <p style=\"color:red;\">{{ error }}</p>\n",
        "            {% endif %}\n",
        "        </form>\n",
        "    ''', error=error)"
      ],
      "metadata": {
        "id": "ZPKNyB6kNqP5"
      },
      "execution_count": 12,
      "outputs": []
    },
    {
      "cell_type": "markdown",
      "source": [
        "8. How do you manage sessions in Flask?"
      ],
      "metadata": {
        "id": "0hzZW8VaI2C2"
      }
    },
    {
      "cell_type": "code",
      "source": [
        "app = Flask(__name__)\n",
        "app.secret_key = \"your_secret_key\"\n"
      ],
      "metadata": {
        "id": "zOCuMrLrI2W3"
      },
      "execution_count": 17,
      "outputs": []
    },
    {
      "cell_type": "code",
      "source": [
        "@app.route('/set/')\n",
        "def set():\n",
        "    session['key'] = 'value'\n",
        "    return 'Session data set'\n",
        "\n",
        "@app.route('/get/')\n",
        "def get():\n",
        "    return session.get('key', 'Not set')"
      ],
      "metadata": {
        "id": "x9nyQt63Pw1q"
      },
      "execution_count": 20,
      "outputs": []
    },
    {
      "cell_type": "markdown",
      "source": [
        "9. How do you redirect to a different route in Flask?"
      ],
      "metadata": {
        "id": "19UBIySaI2qp"
      }
    },
    {
      "cell_type": "code",
      "source": [
        "from flask import Flask, redirect, url_for\n",
        "\n",
        "app = Flask(__name__)\n",
        "\n",
        "@app.route('/')\n",
        "def home():\n",
        "    return redirect(url_for('india'))\n",
        "\n",
        "@app.route('/india')\n",
        "def dashboard():\n",
        "    return 'Welcome to the india!'"
      ],
      "metadata": {
        "id": "A87qv9NjWLXX"
      },
      "execution_count": 24,
      "outputs": []
    },
    {
      "cell_type": "code",
      "source": [
        "@app.route('/user/<username>')\n",
        "def user_profile(username):\n",
        "    return f'User: {surbhi}'\n",
        "\n",
        "@app.route('/login')\n",
        "def login():\n",
        "    # After login logic\n",
        "    return redirect(url_for('user_profile', username='surbhi'))"
      ],
      "metadata": {
        "id": "QwYfnF24JJSc"
      },
      "execution_count": 21,
      "outputs": []
    },
    {
      "cell_type": "markdown",
      "source": [
        "10. How do you handle errors in Flask (e.g., 404)?"
      ],
      "metadata": {
        "id": "nP6WSJPpJJnC"
      }
    },
    {
      "cell_type": "code",
      "source": [
        "from flask import Flask, render_template\n",
        "\n",
        "app = Flask(__name__)\n",
        "\n",
        "@app.errorhandler(404)\n",
        "def page_not_found(e):\n",
        "    return render_template('404.html'), 404"
      ],
      "metadata": {
        "id": "k5sODPO6JJ9b"
      },
      "execution_count": 25,
      "outputs": []
    },
    {
      "cell_type": "code",
      "source": [
        "from flask import abort\n",
        "\n",
        "@app.route('/item/<int:item_id>')\n",
        "def get_item(item_id):\n",
        "    item = find_item_by_id(item_id)\n",
        "    if item is None:\n",
        "        abort(404)\n",
        "    return render_template('item.html', item=item)"
      ],
      "metadata": {
        "id": "8XrsjPCzWshY"
      },
      "execution_count": 26,
      "outputs": []
    },
    {
      "cell_type": "markdown",
      "source": [
        "11. How do you structure a Flask app using Blueprints?"
      ],
      "metadata": {
        "id": "W0EGgz7DJKSy"
      }
    },
    {
      "cell_type": "code",
      "source": [
        "from flask import Blueprint\n",
        "\n",
        "auth_bp = Blueprint('auth', __name__, url_prefix='/auth', template_folder='templates', static_folder='static')\n"
      ],
      "metadata": {
        "id": "2wcdvjlFXJm-"
      },
      "execution_count": 30,
      "outputs": []
    },
    {
      "cell_type": "markdown",
      "source": [
        "12. How do you define a custom Jinja filter in Flask?"
      ],
      "metadata": {
        "id": "_QoLY-BeJK6H"
      }
    },
    {
      "cell_type": "code",
      "source": [
        "from flask import Flask\n",
        "\n",
        "app = Flask(__name__)\n",
        "\n",
        "@app.template_filter('reverse')\n",
        "def reverse_filter(s):\n",
        "    return s[::-1]"
      ],
      "metadata": {
        "id": "nCH3eby-JLna"
      },
      "execution_count": 32,
      "outputs": []
    },
    {
      "cell_type": "markdown",
      "source": [
        "13. How can you redirect with query parameters in Flask?"
      ],
      "metadata": {
        "id": "evZ8lmSxJfzy"
      }
    },
    {
      "cell_type": "code",
      "source": [
        "from flask import Flask, redirect, url_for, request\n",
        "\n",
        "app = Flask(__name__)\n",
        "\n",
        "@app.route('/search')\n",
        "def search():\n",
        "    query = request.args.get('q')\n",
        "    return f\"Search results for: {query}\"\n",
        "\n",
        "@app.route('/go-to-search')\n",
        "def go_to_search():\n",
        "    return redirect(url_for('search', q='flask'))"
      ],
      "metadata": {
        "id": "7u_LrycwJgRJ"
      },
      "execution_count": 33,
      "outputs": []
    },
    {
      "cell_type": "markdown",
      "source": [
        "14. How do you return JSON responses in Flask?"
      ],
      "metadata": {
        "id": "c8LaveYAJg7G"
      }
    },
    {
      "cell_type": "code",
      "source": [
        "from flask import Flask, jsonify\n",
        "\n",
        "app = Flask(__name__)\n",
        "\n",
        "@app.route('/data')\n",
        "def get_data():\n",
        "    data = {'name': 'Alice', 'age': 30}\n",
        "    return jsonify(data)"
      ],
      "metadata": {
        "id": "6sPIPuSjJhUU"
      },
      "execution_count": 35,
      "outputs": []
    },
    {
      "cell_type": "code",
      "source": [
        "@app.route('/info')\n",
        "def info():\n",
        "    return {'status': 'success', 'message': 'Data retrieved successfully'}"
      ],
      "metadata": {
        "id": "0MqVJLh5aV2-"
      },
      "execution_count": 36,
      "outputs": []
    },
    {
      "cell_type": "code",
      "source": [
        "app.config['JSONIFY_PRETTYPRINT_REGULAR'] = True"
      ],
      "metadata": {
        "id": "rOaZhMnxaYVj"
      },
      "execution_count": 37,
      "outputs": []
    },
    {
      "cell_type": "markdown",
      "source": [
        "15. How do you capture URL parameters in Flask?"
      ],
      "metadata": {
        "id": "QTJ2at-uJhpd"
      }
    },
    {
      "cell_type": "code",
      "source": [
        "from flask import Flask, request\n",
        "\n",
        "app = Flask(__name__)\n",
        "\n",
        "@app.route('/users')\n",
        "def get_users():\n",
        "    name = request.args.get('name')\n",
        "    age = request.args.get('age')\n",
        "    return f'Hello, {name}! You are {age} years old.'"
      ],
      "metadata": {
        "id": "5GFie7nKa5Ex"
      },
      "execution_count": 41,
      "outputs": []
    },
    {
      "cell_type": "code",
      "source": [
        "@app.route('/user/<username>')\n",
        "def show_user_profile(username):\n",
        "    return f'Hello, {username}'"
      ],
      "metadata": {
        "id": "AfRJr7avbLEU"
      },
      "execution_count": null,
      "outputs": []
    },
    {
      "cell_type": "code",
      "source": [],
      "metadata": {
        "id": "OJA9YmzObhKf"
      },
      "execution_count": null,
      "outputs": []
    }
  ],
  "metadata": {
    "colab": {
      "provenance": []
    },
    "kernelspec": {
      "display_name": "Python 3",
      "name": "python3"
    },
    "language_info": {
      "name": "python"
    }
  },
  "nbformat": 4,
  "nbformat_minor": 0
}